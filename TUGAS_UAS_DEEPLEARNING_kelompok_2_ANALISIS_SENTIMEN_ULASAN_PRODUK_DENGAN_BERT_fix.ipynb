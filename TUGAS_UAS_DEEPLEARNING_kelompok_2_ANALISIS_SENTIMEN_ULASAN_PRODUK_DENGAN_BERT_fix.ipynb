{
 "cells": [
  {
   "cell_type": "code",
   "execution_count": 1,
   "metadata": {},
   "outputs": [],
   "source": [
    "from IPython.display import Image, display\n",
    "\n",
    "# Menampilkan gambar pertama\n",
    "display(Image(filename=\"outputs_1.jpg\"))\n",
    "\n",
    "# Menampilkan gambar kedua\n",
    "display(Image(filename=\"outputs_2.jpg\"))"
   ]
  }
 ],
 "metadata": {
  "kernelspec": {
   "display_name": "Python 3",
   "language": "python",
   "name": "python3"
  },
  "language_info": {
   "name": "python",
   "version": "3.8"
  }
 },
 "nbformat": 4,
 "nbformat_minor": 5
}
