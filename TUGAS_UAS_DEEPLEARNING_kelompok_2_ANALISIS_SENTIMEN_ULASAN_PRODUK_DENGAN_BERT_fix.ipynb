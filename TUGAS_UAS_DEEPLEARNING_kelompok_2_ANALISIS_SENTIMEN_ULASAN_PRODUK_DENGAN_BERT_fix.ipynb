from IPython.display import Image, display

# Menampilkan gambar pertama
display(Image(filename="outputs_1.jpg"))

# Menampilkan gambar kedua
display(Image(filename="outputs_2.jpg"))
